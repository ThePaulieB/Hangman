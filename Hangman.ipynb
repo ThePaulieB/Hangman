{
  "nbformat": 4,
  "nbformat_minor": 0,
  "metadata": {
    "colab": {
      "provenance": [],
      "authorship_tag": "ABX9TyPlwSAwbHSulFTj+Hf+SqFr",
      "include_colab_link": true
    },
    "kernelspec": {
      "name": "python3",
      "display_name": "Python 3"
    },
    "language_info": {
      "name": "python"
    }
  },
  "cells": [
    {
      "cell_type": "markdown",
      "metadata": {
        "id": "view-in-github",
        "colab_type": "text"
      },
      "source": [
        "<a href=\"https://colab.research.google.com/github/ThePaulieB/Hangman/blob/main/Hangman.ipynb\" target=\"_parent\"><img src=\"https://colab.research.google.com/assets/colab-badge.svg\" alt=\"Open In Colab\"/></a>"
      ]
    },
    {
      "cell_type": "code",
      "execution_count": null,
      "metadata": {
        "id": "qsMmQg1SOCxa",
        "outputId": "f07382a5-848f-4a12-acd1-bfc2b85023ca",
        "colab": {
          "base_uri": "https://localhost:8080/",
          "height": 776
        }
      },
      "outputs": [
        {
          "name": "stdout",
          "output_type": "stream",
          "text": [
            "Looking in indexes: https://pypi.org/simple, https://us-python.pkg.dev/colab-wheels/public/simple/\n",
            "Collecting random-word\n",
            "  Downloading Random_Word-1.0.11-py3-none-any.whl (1.2 MB)\n",
            "\u001b[2K     \u001b[90m━━━━━━━━━━━━━━━━━━━━━━━━━━━━━━━━━━━━━━━━\u001b[0m \u001b[32m1.2/1.2 MB\u001b[0m \u001b[31m38.0 MB/s\u001b[0m eta \u001b[36m0:00:00\u001b[0m\n",
            "\u001b[?25hRequirement already satisfied: requests in /usr/local/lib/python3.10/dist-packages (from random-word) (2.27.1)\n",
            "Requirement already satisfied: pytest in /usr/local/lib/python3.10/dist-packages (from random-word) (7.2.2)\n",
            "Requirement already satisfied: pyyaml in /usr/local/lib/python3.10/dist-packages (from random-word) (6.0)\n",
            "Requirement already satisfied: attrs>=19.2.0 in /usr/local/lib/python3.10/dist-packages (from pytest->random-word) (23.1.0)\n",
            "Requirement already satisfied: iniconfig in /usr/local/lib/python3.10/dist-packages (from pytest->random-word) (2.0.0)\n",
            "Requirement already satisfied: packaging in /usr/local/lib/python3.10/dist-packages (from pytest->random-word) (23.1)\n",
            "Requirement already satisfied: pluggy<2.0,>=0.12 in /usr/local/lib/python3.10/dist-packages (from pytest->random-word) (1.0.0)\n",
            "Requirement already satisfied: exceptiongroup>=1.0.0rc8 in /usr/local/lib/python3.10/dist-packages (from pytest->random-word) (1.1.1)\n",
            "Requirement already satisfied: tomli>=1.0.0 in /usr/local/lib/python3.10/dist-packages (from pytest->random-word) (2.0.1)\n",
            "Requirement already satisfied: urllib3<1.27,>=1.21.1 in /usr/local/lib/python3.10/dist-packages (from requests->random-word) (1.26.15)\n",
            "Requirement already satisfied: certifi>=2017.4.17 in /usr/local/lib/python3.10/dist-packages (from requests->random-word) (2022.12.7)\n",
            "Requirement already satisfied: charset-normalizer~=2.0.0 in /usr/local/lib/python3.10/dist-packages (from requests->random-word) (2.0.12)\n",
            "Requirement already satisfied: idna<4,>=2.5 in /usr/local/lib/python3.10/dist-packages (from requests->random-word) (3.4)\n",
            "Installing collected packages: random-word\n",
            "Successfully installed random-word-1.0.11\n",
            "\n",
            "H A N G M A N\n",
            "Type \"play\" to play the game, \"results\" to show the scoreboard, and \"exit\" to quit:\n",
            "play\n"
          ]
        },
        {
          "output_type": "error",
          "ename": "NameError",
          "evalue": "ignored",
          "traceback": [
            "\u001b[0;31m---------------------------------------------------------------------------\u001b[0m",
            "\u001b[0;31mNameError\u001b[0m                                 Traceback (most recent call last)",
            "\u001b[0;32m<ipython-input-1-7abc7aef6019>\u001b[0m in \u001b[0;36m<cell line: 103>\u001b[0;34m()\u001b[0m\n\u001b[1;32m    101\u001b[0m \u001b[0;34m\u001b[0m\u001b[0m\n\u001b[1;32m    102\u001b[0m \u001b[0mintro\u001b[0m\u001b[0;34m(\u001b[0m\u001b[0;34m)\u001b[0m\u001b[0;34m\u001b[0m\u001b[0;34m\u001b[0m\u001b[0m\n\u001b[0;32m--> 103\u001b[0;31m \u001b[0mshow_menu\u001b[0m\u001b[0;34m(\u001b[0m\u001b[0;34m)\u001b[0m\u001b[0;34m\u001b[0m\u001b[0;34m\u001b[0m\u001b[0m\n\u001b[0m",
            "\u001b[0;32m<ipython-input-1-7abc7aef6019>\u001b[0m in \u001b[0;36mshow_menu\u001b[0;34m()\u001b[0m\n\u001b[1;32m     19\u001b[0m         \u001b[0maction\u001b[0m \u001b[0;34m=\u001b[0m \u001b[0minput\u001b[0m\u001b[0;34m(\u001b[0m\u001b[0;34m)\u001b[0m\u001b[0;34m\u001b[0m\u001b[0;34m\u001b[0m\u001b[0m\n\u001b[1;32m     20\u001b[0m         \u001b[0;32mif\u001b[0m \u001b[0maction\u001b[0m \u001b[0;34m==\u001b[0m \u001b[0;34m\"play\"\u001b[0m\u001b[0;34m:\u001b[0m\u001b[0;34m\u001b[0m\u001b[0;34m\u001b[0m\u001b[0m\n\u001b[0;32m---> 21\u001b[0;31m             \u001b[0mplay_game\u001b[0m\u001b[0;34m(\u001b[0m\u001b[0;34m)\u001b[0m\u001b[0;34m\u001b[0m\u001b[0;34m\u001b[0m\u001b[0m\n\u001b[0m\u001b[1;32m     22\u001b[0m         \u001b[0;32melif\u001b[0m \u001b[0maction\u001b[0m \u001b[0;34m==\u001b[0m \u001b[0;34m\"results\"\u001b[0m\u001b[0;34m:\u001b[0m\u001b[0;34m\u001b[0m\u001b[0;34m\u001b[0m\u001b[0m\n\u001b[1;32m     23\u001b[0m             \u001b[0mshow_results\u001b[0m\u001b[0;34m(\u001b[0m\u001b[0;34m)\u001b[0m\u001b[0;34m\u001b[0m\u001b[0;34m\u001b[0m\u001b[0m\n",
            "\u001b[0;32m<ipython-input-1-7abc7aef6019>\u001b[0m in \u001b[0;36mplay_game\u001b[0;34m()\u001b[0m\n\u001b[1;32m     74\u001b[0m     \u001b[0;32mglobal\u001b[0m \u001b[0msecret_word\u001b[0m\u001b[0;34m\u001b[0m\u001b[0;34m\u001b[0m\u001b[0m\n\u001b[1;32m     75\u001b[0m     \u001b[0minput_letters\u001b[0m \u001b[0;34m=\u001b[0m \u001b[0;34m[\u001b[0m\u001b[0;34m]\u001b[0m\u001b[0;34m\u001b[0m\u001b[0;34m\u001b[0m\u001b[0m\n\u001b[0;32m---> 76\u001b[0;31m     \u001b[0mword_to_guess\u001b[0m \u001b[0;34m=\u001b[0m \u001b[0msecret_word\u001b[0m\u001b[0;34m\u001b[0m\u001b[0;34m\u001b[0m\u001b[0m\n\u001b[0m\u001b[1;32m     77\u001b[0m     \u001b[0mguessed\u001b[0m \u001b[0;34m=\u001b[0m \u001b[0;34m[\u001b[0m\u001b[0;34m\"-\"\u001b[0m\u001b[0;34m]\u001b[0m \u001b[0;34m*\u001b[0m \u001b[0mlen\u001b[0m\u001b[0;34m(\u001b[0m\u001b[0mword_to_guess\u001b[0m\u001b[0;34m)\u001b[0m\u001b[0;34m\u001b[0m\u001b[0;34m\u001b[0m\u001b[0m\n\u001b[1;32m     78\u001b[0m     \u001b[0mallowed_mistakes\u001b[0m \u001b[0;34m=\u001b[0m \u001b[0;36m8\u001b[0m\u001b[0;34m\u001b[0m\u001b[0;34m\u001b[0m\u001b[0m\n",
            "\u001b[0;31mNameError\u001b[0m: name 'secret_word' is not defined"
          ]
        }
      ],
      "source": [
        "!pip install random-word\n",
        "import random\n",
        "from random_word import RandomWords\n",
        "\n",
        "score = {\"win\": 0, \"lost\": 0}\n",
        "\n",
        "def getword():\n",
        "  global secret_word\n",
        "  r = RandomWords()\n",
        "  secret_word = r.get_random_word()\n",
        "\n",
        "def intro():\n",
        "    print(\"\\nH A N G M A N\")\n",
        "\n",
        "\n",
        "def show_menu():\n",
        "    while True:\n",
        "        print('Type \"play\" to play the game, \"results\" to show the scoreboard, and \"exit\" to quit:')\n",
        "        action = input()\n",
        "        if action == \"play\":\n",
        "            getword()\n",
        "            play_game()\n",
        "        elif action == \"results\":\n",
        "            show_results()\n",
        "        elif action == \"exit\":\n",
        "            break\n",
        "        else:\n",
        "            continue\n",
        "\n",
        "\n",
        "def get_word_to_guess():\n",
        "    return list(random.choice(words))\n",
        "\n",
        "\n",
        "def validate_input(user_input, input_letters):\n",
        "    if len(user_input) != 1:\n",
        "        print(\"Please, input a single letter.\")\n",
        "        return False\n",
        "    elif not user_input.isalpha() or user_input.isupper():\n",
        "        print(\"Please, enter a lowercase letter from the English alphabet.\")\n",
        "        return False\n",
        "    elif user_input in input_letters:\n",
        "        print(\"You've already guessed this letter.\")\n",
        "        return False\n",
        "    else:\n",
        "        input_letters.append(user_input)\n",
        "        return True\n",
        "\n",
        "\n",
        "def show_guessed_letters(letter, word_to_guess, guessed):\n",
        "    for i in range(len(word_to_guess)):\n",
        "        if word_to_guess[i] == letter:\n",
        "            guessed[i] = letter\n",
        "\n",
        "    return guessed\n",
        "\n",
        "\n",
        "def evaluate_result(guessed):\n",
        "    global secret_word\n",
        "    if \"-\" in guessed:\n",
        "        score[\"lost\"] += 1\n",
        "        print()\n",
        "        print(f\"You lost! The word was {secret_word}\")\n",
        "        getword()\n",
        "    else:\n",
        "        score[\"win\"] += 1\n",
        "        result = \"\".join(guessed)\n",
        "        print()\n",
        "        print(f\"You guessed the word {result}!\")\n",
        "        print(\"You survived!\")\n",
        "        getword()\n",
        "\n",
        "\n",
        "def play_game():\n",
        "    global secret_word\n",
        "    input_letters = []\n",
        "    word_to_guess = secret_word\n",
        "    guessed = [\"-\"] * len(word_to_guess)\n",
        "    allowed_mistakes = 8\n",
        "    while allowed_mistakes > 0:\n",
        "        print()\n",
        "        print(\"\".join(guessed))\n",
        "        print(f\"{allowed_mistakes} tries left! Input a letter:\")\n",
        "        letter = input()\n",
        "        if not validate_input(letter, input_letters):\n",
        "            continue\n",
        "        elif letter in word_to_guess:\n",
        "            guessed = show_guessed_letters(letter, word_to_guess, guessed)\n",
        "            if \"-\" not in guessed:\n",
        "                break\n",
        "        else:\n",
        "            allowed_mistakes -= 1\n",
        "            print(f\"That letter doesn't appear in the word.\")\n",
        "\n",
        "    evaluate_result(guessed)\n",
        "\n",
        "\n",
        "def show_results():\n",
        "    print(f'\\nYou won: {score[\"win\"]} times')\n",
        "    print(f'You lost: {score[\"lost\"]} times\\n')\n",
        "\n",
        "\n",
        "intro()\n",
        "show_menu()"
      ]
    },
    {
      "cell_type": "code",
      "source": [],
      "metadata": {
        "id": "7QqpucCrOrMG"
      },
      "execution_count": null,
      "outputs": []
    }
  ]
}